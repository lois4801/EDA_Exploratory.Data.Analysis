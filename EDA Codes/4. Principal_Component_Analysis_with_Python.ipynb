{
  "nbformat": 4,
  "nbformat_minor": 0,
  "metadata": {
    "colab": {
      "name": "Principal Component Analysis with Python.ipynb",
      "provenance": []
    },
    "kernelspec": {
      "name": "python3",
      "display_name": "Python 3"
    }
  },
  "cells": [
    {
      "cell_type": "code",
      "metadata": {
        "id": "mQ_sSUfi_Ls8",
        "colab_type": "code",
        "colab": {}
      },
      "source": [
        "import numpy as np\n",
        "import pandas as pd\n",
        "import seaborn as sns\n",
        "import matplotlib.pyplot as plt\n",
        "from sklearn.preprocessing import StandardScaler\n",
        "from sklearn.decomposition import PCA"
      ],
      "execution_count": 0,
      "outputs": []
    },
    {
      "cell_type": "markdown",
      "metadata": {
        "id": "N3FeC8K_M0G1",
        "colab_type": "text"
      },
      "source": [
        "# 1. Load Dataset"
      ]
    },
    {
      "cell_type": "code",
      "metadata": {
        "id": "cuLkp0MGBQ_V",
        "colab_type": "code",
        "outputId": "07ce59bf-fb23-4ef3-80f7-95e5e6204bbe",
        "colab": {
          "base_uri": "https://localhost:8080/",
          "height": 204
        }
      },
      "source": [
        "tips = sns.load_dataset('tips')\n",
        "tips.head()"
      ],
      "execution_count": 0,
      "outputs": [
        {
          "output_type": "execute_result",
          "data": {
            "text/html": [
              "<div>\n",
              "<style scoped>\n",
              "    .dataframe tbody tr th:only-of-type {\n",
              "        vertical-align: middle;\n",
              "    }\n",
              "\n",
              "    .dataframe tbody tr th {\n",
              "        vertical-align: top;\n",
              "    }\n",
              "\n",
              "    .dataframe thead th {\n",
              "        text-align: right;\n",
              "    }\n",
              "</style>\n",
              "<table border=\"1\" class=\"dataframe\">\n",
              "  <thead>\n",
              "    <tr style=\"text-align: right;\">\n",
              "      <th></th>\n",
              "      <th>total_bill</th>\n",
              "      <th>tip</th>\n",
              "      <th>sex</th>\n",
              "      <th>smoker</th>\n",
              "      <th>day</th>\n",
              "      <th>time</th>\n",
              "      <th>size</th>\n",
              "    </tr>\n",
              "  </thead>\n",
              "  <tbody>\n",
              "    <tr>\n",
              "      <th>0</th>\n",
              "      <td>16.99</td>\n",
              "      <td>1.01</td>\n",
              "      <td>Female</td>\n",
              "      <td>No</td>\n",
              "      <td>Sun</td>\n",
              "      <td>Dinner</td>\n",
              "      <td>2</td>\n",
              "    </tr>\n",
              "    <tr>\n",
              "      <th>1</th>\n",
              "      <td>10.34</td>\n",
              "      <td>1.66</td>\n",
              "      <td>Male</td>\n",
              "      <td>No</td>\n",
              "      <td>Sun</td>\n",
              "      <td>Dinner</td>\n",
              "      <td>3</td>\n",
              "    </tr>\n",
              "    <tr>\n",
              "      <th>2</th>\n",
              "      <td>21.01</td>\n",
              "      <td>3.50</td>\n",
              "      <td>Male</td>\n",
              "      <td>No</td>\n",
              "      <td>Sun</td>\n",
              "      <td>Dinner</td>\n",
              "      <td>3</td>\n",
              "    </tr>\n",
              "    <tr>\n",
              "      <th>3</th>\n",
              "      <td>23.68</td>\n",
              "      <td>3.31</td>\n",
              "      <td>Male</td>\n",
              "      <td>No</td>\n",
              "      <td>Sun</td>\n",
              "      <td>Dinner</td>\n",
              "      <td>2</td>\n",
              "    </tr>\n",
              "    <tr>\n",
              "      <th>4</th>\n",
              "      <td>24.59</td>\n",
              "      <td>3.61</td>\n",
              "      <td>Female</td>\n",
              "      <td>No</td>\n",
              "      <td>Sun</td>\n",
              "      <td>Dinner</td>\n",
              "      <td>4</td>\n",
              "    </tr>\n",
              "  </tbody>\n",
              "</table>\n",
              "</div>"
            ],
            "text/plain": [
              "   total_bill   tip     sex smoker  day    time  size\n",
              "0       16.99  1.01  Female     No  Sun  Dinner     2\n",
              "1       10.34  1.66    Male     No  Sun  Dinner     3\n",
              "2       21.01  3.50    Male     No  Sun  Dinner     3\n",
              "3       23.68  3.31    Male     No  Sun  Dinner     2\n",
              "4       24.59  3.61  Female     No  Sun  Dinner     4"
            ]
          },
          "metadata": {
            "tags": []
          },
          "execution_count": 2
        }
      ]
    },
    {
      "cell_type": "markdown",
      "metadata": {
        "id": "Iazbk5yZM3YT",
        "colab_type": "text"
      },
      "source": [
        "# 2. Plot Equalized Scatterplot"
      ]
    },
    {
      "cell_type": "code",
      "metadata": {
        "id": "ZxSt2X2oCGXq",
        "colab_type": "code",
        "outputId": "7e5d0da0-1f3a-4da0-ab92-a0c6c8dd28c8",
        "colab": {
          "base_uri": "https://localhost:8080/",
          "height": 491
        }
      },
      "source": [
        "fig = plt.figure(figsize=(10, 7.5))\n",
        "ax = sns.scatterplot(x='total_bill', y='tip', data=tips)\n",
        "plt.axis('equal')"
      ],
      "execution_count": 0,
      "outputs": [
        {
          "output_type": "execute_result",
          "data": {
            "text/plain": [
              "(0.682349462365591, 53.19765053763441, 0.5491096394407654, 10.450890360559237)"
            ]
          },
          "metadata": {
            "tags": []
          },
          "execution_count": 3
        },
        {
          "output_type": "display_data",
          "data": {
            "image/png": "[encoded data removed]",
            "text/plain": [
              "<Figure size 720x540 with 1 Axes>"
            ]
          },
          "metadata": {
            "tags": []
          }
        }
      ]
    },
    {
      "cell_type": "markdown",
      "metadata": {
        "id": "FsTSrsAnM9iD",
        "colab_type": "text"
      },
      "source": [
        "# 3. Set Variables and Compute PCA"
      ]
    },
    {
      "cell_type": "code",
      "metadata": {
        "id": "JVZHogMDC4lP",
        "colab_type": "code",
        "colab": {}
      },
      "source": [
        "arr = tips[['total_bill', 'tip']].values\n",
        "\n",
        "# Standardize features by removing the mean and scaling to unit variance\n",
        "# The results of PCA depend on the scaling of the variables. This can be \n",
        "# cured by scaling each feature by its standard deviation, so that one \n",
        "# ends up with dimensionless features with unital variance\n",
        "arr = StandardScaler().fit_transform(arr)"
      ],
      "execution_count": 0,
      "outputs": []
    },
    {
      "cell_type": "code",
      "metadata": {
        "id": "wzW_Ox4BDzRr",
        "colab_type": "code",
        "outputId": "606a1c34-547a-4e64-ed83-4c9fded820e8",
        "colab": {
          "base_uri": "https://localhost:8080/",
          "height": 51
        }
      },
      "source": [
        "pca = PCA(n_components=2)\n",
        "pca.fit(arr)"
      ],
      "execution_count": 0,
      "outputs": [
        {
          "output_type": "execute_result",
          "data": {
            "text/plain": [
              "PCA(copy=True, iterated_power='auto', n_components=2, random_state=None,\n",
              "    svd_solver='auto', tol=0.0, whiten=False)"
            ]
          },
          "metadata": {
            "tags": []
          },
          "execution_count": 5
        }
      ]
    },
    {
      "cell_type": "code",
      "metadata": {
        "id": "aOKTIPdzEL3p",
        "colab_type": "code",
        "outputId": "3828b134-5904-49ce-dfa1-b740f61877ea",
        "colab": {
          "base_uri": "https://localhost:8080/",
          "height": 187
        }
      },
      "source": [
        "print(f'PCA Components: \\n {pca.components_} \\n')\n",
        "print(f'PCA Explained Variance: \\n {pca.explained_variance_} \\n')\n",
        "print(f'PCA Explained Variance Ratio: \\n {pca.explained_variance_ratio_} \\n')"
      ],
      "execution_count": 0,
      "outputs": [
        {
          "output_type": "stream",
          "text": [
            "PCA Components: \n",
            " [[ 0.70710678  0.70710678]\n",
            " [ 0.70710678 -0.70710678]] \n",
            "\n",
            "PCA Explained Variance: \n",
            " [1.68263013 0.32560032] \n",
            "\n",
            "PCA Explained Variance Ratio: \n",
            " [0.83786705 0.16213295] \n",
            "\n"
          ],
          "name": "stdout"
        }
      ]
    },
    {
      "cell_type": "markdown",
      "metadata": {
        "id": "z7yevZtaNGPy",
        "colab_type": "text"
      },
      "source": [
        "# 4. Plot Principal Components"
      ]
    },
    {
      "cell_type": "code",
      "metadata": {
        "id": "pQFyx37qFs2r",
        "colab_type": "code",
        "outputId": "05fd5370-f98a-473d-f760-4e08404345b2",
        "colab": {
          "base_uri": "https://localhost:8080/",
          "height": 476
        }
      },
      "source": [
        "fig = plt.figure(figsize=(10, 7.5))\n",
        "sns.scatterplot(x=arr[:, 0], y=arr[:, 1])\n",
        "\n",
        "for length, vector in zip(pca.explained_variance_, pca.components_):\n",
        "    v = vector * 3 * length\n",
        "    ax = plt.gca()\n",
        "    ax.annotate('', pca.mean_ + v, pca.mean_, arrowprops=dict(arrowstyle='-|>',\n",
        "                                                              linewidth=2,\n",
        "                                                              shrinkA=0, \n",
        "                                                              shrinkB=0))\n",
        "    \n",
        "plt.axis('equal')"
      ],
      "execution_count": 0,
      "outputs": [
        {
          "output_type": "execute_result",
          "data": {
            "text/plain": [
              "(-2.15087778285332, 3.761399197235741, -1.7739775349423537, 5.397560088716981)"
            ]
          },
          "metadata": {
            "tags": []
          },
          "execution_count": 7
        },
        {
          "output_type": "display_data",
          "data": {
            "image/png": "[encoded data removed]",
            "text/plain": [
              "<Figure size 720x540 with 1 Axes>"
            ]
          },
          "metadata": {
            "tags": []
          }
        }
      ]
    },
    {
      "cell_type": "code",
      "metadata": {
        "id": "X67KKC6VOjpS",
        "colab_type": "code",
        "colab": {}
      },
      "source": [
        ""
      ],
      "execution_count": 0,
      "outputs": []
    }
  ]
}