{
  "nbformat": 4,
  "nbformat_minor": 0,
  "metadata": {
    "colab": {
      "name": "Copia de Local Concentration and Dispersion.ipynb",
      "provenance": []
    },
    "kernelspec": {
      "name": "python3",
      "display_name": "Python 3"
    }
  },
  "cells": [
    {
      "cell_type": "code",
      "metadata": {
        "id": "10pwKHiUIjnv",
        "colab_type": "code",
        "colab": {}
      },
      "source": [
        "import pandas as pd\n",
        "import numpy as np\n",
        "import matplotlib.pyplot as plt\n",
        "import seaborn as sns"
      ],
      "execution_count": 0,
      "outputs": []
    },
    {
      "cell_type": "markdown",
      "metadata": {
        "id": "fzt1yt3QJeWX",
        "colab_type": "text"
      },
      "source": [
        "## 1. Looking at the features\n"
      ]
    },
    {
      "cell_type": "code",
      "metadata": {
        "id": "6fqgrhxOJdmR",
        "colab_type": "code",
        "outputId": "972bed00-2247-47c2-9258-c1cb04f41fad",
        "colab": {
          "base_uri": "https://localhost:8080/",
          "height": 204
        }
      },
      "source": [
        "data = pd.read_csv('http://www.dsi.uminho.pt/~pcortez/forestfires/forestfires.csv')\n",
        "data.head()"
      ],
      "execution_count": 0,
      "outputs": [
        {
          "output_type": "execute_result",
          "data": {
            "text/html": [
              "<div>\n",
              "<style scoped>\n",
              "    .dataframe tbody tr th:only-of-type {\n",
              "        vertical-align: middle;\n",
              "    }\n",
              "\n",
              "    .dataframe tbody tr th {\n",
              "        vertical-align: top;\n",
              "    }\n",
              "\n",
              "    .dataframe thead th {\n",
              "        text-align: right;\n",
              "    }\n",
              "</style>\n",
              "<table border=\"1\" class=\"dataframe\">\n",
              "  <thead>\n",
              "    <tr style=\"text-align: right;\">\n",
              "      <th></th>\n",
              "      <th>X</th>\n",
              "      <th>Y</th>\n",
              "      <th>month</th>\n",
              "      <th>day</th>\n",
              "      <th>FFMC</th>\n",
              "      <th>DMC</th>\n",
              "      <th>DC</th>\n",
              "      <th>ISI</th>\n",
              "      <th>temp</th>\n",
              "      <th>RH</th>\n",
              "      <th>wind</th>\n",
              "      <th>rain</th>\n",
              "      <th>area</th>\n",
              "    </tr>\n",
              "  </thead>\n",
              "  <tbody>\n",
              "    <tr>\n",
              "      <th>0</th>\n",
              "      <td>7</td>\n",
              "      <td>5</td>\n",
              "      <td>mar</td>\n",
              "      <td>fri</td>\n",
              "      <td>86.2</td>\n",
              "      <td>26.2</td>\n",
              "      <td>94.3</td>\n",
              "      <td>5.1</td>\n",
              "      <td>8.2</td>\n",
              "      <td>51</td>\n",
              "      <td>6.7</td>\n",
              "      <td>0.0</td>\n",
              "      <td>0.0</td>\n",
              "    </tr>\n",
              "    <tr>\n",
              "      <th>1</th>\n",
              "      <td>7</td>\n",
              "      <td>4</td>\n",
              "      <td>oct</td>\n",
              "      <td>tue</td>\n",
              "      <td>90.6</td>\n",
              "      <td>35.4</td>\n",
              "      <td>669.1</td>\n",
              "      <td>6.7</td>\n",
              "      <td>18.0</td>\n",
              "      <td>33</td>\n",
              "      <td>0.9</td>\n",
              "      <td>0.0</td>\n",
              "      <td>0.0</td>\n",
              "    </tr>\n",
              "    <tr>\n",
              "      <th>2</th>\n",
              "      <td>7</td>\n",
              "      <td>4</td>\n",
              "      <td>oct</td>\n",
              "      <td>sat</td>\n",
              "      <td>90.6</td>\n",
              "      <td>43.7</td>\n",
              "      <td>686.9</td>\n",
              "      <td>6.7</td>\n",
              "      <td>14.6</td>\n",
              "      <td>33</td>\n",
              "      <td>1.3</td>\n",
              "      <td>0.0</td>\n",
              "      <td>0.0</td>\n",
              "    </tr>\n",
              "    <tr>\n",
              "      <th>3</th>\n",
              "      <td>8</td>\n",
              "      <td>6</td>\n",
              "      <td>mar</td>\n",
              "      <td>fri</td>\n",
              "      <td>91.7</td>\n",
              "      <td>33.3</td>\n",
              "      <td>77.5</td>\n",
              "      <td>9.0</td>\n",
              "      <td>8.3</td>\n",
              "      <td>97</td>\n",
              "      <td>4.0</td>\n",
              "      <td>0.2</td>\n",
              "      <td>0.0</td>\n",
              "    </tr>\n",
              "    <tr>\n",
              "      <th>4</th>\n",
              "      <td>8</td>\n",
              "      <td>6</td>\n",
              "      <td>mar</td>\n",
              "      <td>sun</td>\n",
              "      <td>89.3</td>\n",
              "      <td>51.3</td>\n",
              "      <td>102.2</td>\n",
              "      <td>9.6</td>\n",
              "      <td>11.4</td>\n",
              "      <td>99</td>\n",
              "      <td>1.8</td>\n",
              "      <td>0.0</td>\n",
              "      <td>0.0</td>\n",
              "    </tr>\n",
              "  </tbody>\n",
              "</table>\n",
              "</div>"
            ],
            "text/plain": [
              "   X  Y month  day  FFMC   DMC     DC  ISI  temp  RH  wind  rain  area\n",
              "0  7  5   mar  fri  86.2  26.2   94.3  5.1   8.2  51   6.7   0.0   0.0\n",
              "1  7  4   oct  tue  90.6  35.4  669.1  6.7  18.0  33   0.9   0.0   0.0\n",
              "2  7  4   oct  sat  90.6  43.7  686.9  6.7  14.6  33   1.3   0.0   0.0\n",
              "3  8  6   mar  fri  91.7  33.3   77.5  9.0   8.3  97   4.0   0.2   0.0\n",
              "4  8  6   mar  sun  89.3  51.3  102.2  9.6  11.4  99   1.8   0.0   0.0"
            ]
          },
          "metadata": {
            "tags": []
          },
          "execution_count": 2
        }
      ]
    },
    {
      "cell_type": "markdown",
      "metadata": {
        "id": "WaMw8ANjOmCc",
        "colab_type": "text"
      },
      "source": [
        "## 2. Local Concentration"
      ]
    },
    {
      "cell_type": "code",
      "metadata": {
        "id": "JH5LqsyYKi8z",
        "colab_type": "code",
        "outputId": "3651c410-0ce1-49c0-8222-ace3f6e43535",
        "colab": {
          "base_uri": "https://localhost:8080/",
          "height": 34
        }
      },
      "source": [
        "from statistics import mean\n",
        "\n",
        "a1 = data['temp'].mean() # pandas function\n",
        "a2 = mean(data['temp'])  # statistics function\n",
        "a3 = np.mean(data['temp']) # numpy mean\n",
        "\n",
        "print(f'{a1}, {a2}, {a3}')"
      ],
      "execution_count": 0,
      "outputs": [
        {
          "output_type": "stream",
          "text": [
            "18.88916827852998, 18.88916827852998, 18.88916827852998\n"
          ],
          "name": "stdout"
        }
      ]
    },
    {
      "cell_type": "code",
      "metadata": {
        "id": "U2XIO98mPHB4",
        "colab_type": "code",
        "outputId": "2c1d1aa7-998c-446e-b0a0-a343994ac2e3",
        "colab": {
          "base_uri": "https://localhost:8080/",
          "height": 68
        }
      },
      "source": [
        "from statistics import mode\n",
        "from scipy import stats\n",
        "\n",
        "a1 = data['temp'].mode() # pandas function\n",
        "#a2 = mode(data['temp'])  # statistics function\n",
        "a3 = stats.mode(data['temp']) # stats function\n",
        "\n",
        "print(f'{a1}, {a3}')"
      ],
      "execution_count": 0,
      "outputs": [
        {
          "output_type": "stream",
          "text": [
            "0    17.4\n",
            "1    19.6\n",
            "dtype: float64, ModeResult(mode=array([17.4]), count=array([8]))\n"
          ],
          "name": "stdout"
        }
      ]
    },
    {
      "cell_type": "code",
      "metadata": {
        "id": "a_scWsL5VCbb",
        "colab_type": "code",
        "outputId": "c3b99af8-c5dc-4618-a0f2-d6228f730f21",
        "colab": {
          "base_uri": "https://localhost:8080/",
          "height": 34
        }
      },
      "source": [
        "from statistics import median\n",
        "\n",
        "a1 = data['temp'].median() # pandas function\n",
        "a2 = median(data['temp'])  # statistics function\n",
        "a3 = np.median(data['temp']) # numpy function\n",
        "\n",
        "print(f'{a1}, {a2}, {a3}')"
      ],
      "execution_count": 0,
      "outputs": [
        {
          "output_type": "stream",
          "text": [
            "19.3, 19.3, 19.3\n"
          ],
          "name": "stdout"
        }
      ]
    },
    {
      "cell_type": "markdown",
      "metadata": {
        "id": "2H29Ii3mVoyj",
        "colab_type": "text"
      },
      "source": [
        "## 3. Dispersion"
      ]
    },
    {
      "cell_type": "code",
      "metadata": {
        "id": "5jdKUfjjVNOE",
        "colab_type": "code",
        "outputId": "70ef43a5-09ce-4b66-90e7-9bf68204d526",
        "colab": {
          "base_uri": "https://localhost:8080/",
          "height": 34
        }
      },
      "source": [
        "from statistics import stdev\n",
        "\n",
        "a1 = data['temp'].std() # pandas function\n",
        "a2 = stdev(data['temp'])  # statistics function\n",
        "a3 = np.std(data['temp']) # numpy function\n",
        "\n",
        "print(f'{a1}, {a2}, {a3}')"
      ],
      "execution_count": 0,
      "outputs": [
        {
          "output_type": "stream",
          "text": [
            "5.806625349573503, 5.806625349573505, 5.8010069395983646\n"
          ],
          "name": "stdout"
        }
      ]
    },
    {
      "cell_type": "code",
      "metadata": {
        "id": "9rj6TfdzWlVA",
        "colab_type": "code",
        "outputId": "17916803-aa07-4a6e-fb47-5ad836b90c93",
        "colab": {
          "base_uri": "https://localhost:8080/",
          "height": 34
        }
      },
      "source": [
        "from statistics import variance\n",
        "\n",
        "a1 = data['temp'].var() # pandas function\n",
        "a2 = variance(data['temp'])  # statistics function\n",
        "a3 = np.var(data['temp']) # numpy function\n",
        "\n",
        "print(f'{a1}, {a2}, {a3}')"
      ],
      "execution_count": 0,
      "outputs": [
        {
          "output_type": "stream",
          "text": [
            "33.7168979503096, 33.71689795030963, 33.65168151326838\n"
          ],
          "name": "stdout"
        }
      ]
    },
    {
      "cell_type": "markdown",
      "metadata": {
        "id": "LpcsdLO3YDGo",
        "colab_type": "text"
      },
      "source": [
        "## 4. Shape"
      ]
    },
    {
      "cell_type": "code",
      "metadata": {
        "id": "VfDZpF6iWsSy",
        "colab_type": "code",
        "outputId": "5240df3c-35fd-4835-aaf0-9ad6508e7434",
        "colab": {
          "base_uri": "https://localhost:8080/",
          "height": 34
        }
      },
      "source": [
        "from scipy.stats import skew\n",
        "\n",
        "a1 = data['temp'].skew() # pandas function\n",
        "a2 = skew(data['temp'])  # scipy stats\n",
        "\n",
        "print(a1, a2)"
      ],
      "execution_count": 0,
      "outputs": [
        {
          "output_type": "stream",
          "text": [
            "-0.331172237347285 -0.3302106140354586\n"
          ],
          "name": "stdout"
        }
      ]
    },
    {
      "cell_type": "code",
      "metadata": {
        "id": "kyulOWGFYKoC",
        "colab_type": "code",
        "outputId": "2626788f-a45c-48d1-dffc-ad42f7c3a260",
        "colab": {
          "base_uri": "https://localhost:8080/",
          "height": 34
        }
      },
      "source": [
        "from scipy.stats import kurtosis\n",
        "\n",
        "a1 = data['temp'].kurt() # pandas function\n",
        "a2 = kurtosis(data['temp'])  # scipy stats\n",
        "\n",
        "print(a1, a2)"
      ],
      "execution_count": 0,
      "outputs": [
        {
          "output_type": "stream",
          "text": [
            "0.1361655076587991 0.12326917606611909\n"
          ],
          "name": "stdout"
        }
      ]
    },
    {
      "cell_type": "markdown",
      "metadata": {
        "id": "SXTOsJo0br3f",
        "colab_type": "text"
      },
      "source": [
        "## 5. Describe Method"
      ]
    },
    {
      "cell_type": "code",
      "metadata": {
        "id": "bANQIQWEbnxH",
        "colab_type": "code",
        "outputId": "a58e0f92-09a7-4b57-d058-68da5f806395",
        "colab": {
          "base_uri": "https://localhost:8080/",
          "height": 297
        }
      },
      "source": [
        "data.describe()"
      ],
      "execution_count": 0,
      "outputs": [
        {
          "output_type": "execute_result",
          "data": {
            "text/html": [
              "<div>\n",
              "<style scoped>\n",
              "    .dataframe tbody tr th:only-of-type {\n",
              "        vertical-align: middle;\n",
              "    }\n",
              "\n",
              "    .dataframe tbody tr th {\n",
              "        vertical-align: top;\n",
              "    }\n",
              "\n",
              "    .dataframe thead th {\n",
              "        text-align: right;\n",
              "    }\n",
              "</style>\n",
              "<table border=\"1\" class=\"dataframe\">\n",
              "  <thead>\n",
              "    <tr style=\"text-align: right;\">\n",
              "      <th></th>\n",
              "      <th>X</th>\n",
              "      <th>Y</th>\n",
              "      <th>FFMC</th>\n",
              "      <th>DMC</th>\n",
              "      <th>DC</th>\n",
              "      <th>ISI</th>\n",
              "      <th>temp</th>\n",
              "      <th>RH</th>\n",
              "      <th>wind</th>\n",
              "      <th>rain</th>\n",
              "      <th>area</th>\n",
              "    </tr>\n",
              "  </thead>\n",
              "  <tbody>\n",
              "    <tr>\n",
              "      <th>count</th>\n",
              "      <td>517.000000</td>\n",
              "      <td>517.000000</td>\n",
              "      <td>517.000000</td>\n",
              "      <td>517.000000</td>\n",
              "      <td>517.000000</td>\n",
              "      <td>517.000000</td>\n",
              "      <td>517.000000</td>\n",
              "      <td>517.000000</td>\n",
              "      <td>517.000000</td>\n",
              "      <td>517.000000</td>\n",
              "      <td>517.000000</td>\n",
              "    </tr>\n",
              "    <tr>\n",
              "      <th>mean</th>\n",
              "      <td>4.669246</td>\n",
              "      <td>4.299807</td>\n",
              "      <td>90.644681</td>\n",
              "      <td>110.872340</td>\n",
              "      <td>547.940039</td>\n",
              "      <td>9.021663</td>\n",
              "      <td>18.889168</td>\n",
              "      <td>44.288201</td>\n",
              "      <td>4.017602</td>\n",
              "      <td>0.021663</td>\n",
              "      <td>12.847292</td>\n",
              "    </tr>\n",
              "    <tr>\n",
              "      <th>std</th>\n",
              "      <td>2.313778</td>\n",
              "      <td>1.229900</td>\n",
              "      <td>5.520111</td>\n",
              "      <td>64.046482</td>\n",
              "      <td>248.066192</td>\n",
              "      <td>4.559477</td>\n",
              "      <td>5.806625</td>\n",
              "      <td>16.317469</td>\n",
              "      <td>1.791653</td>\n",
              "      <td>0.295959</td>\n",
              "      <td>63.655818</td>\n",
              "    </tr>\n",
              "    <tr>\n",
              "      <th>min</th>\n",
              "      <td>1.000000</td>\n",
              "      <td>2.000000</td>\n",
              "      <td>18.700000</td>\n",
              "      <td>1.100000</td>\n",
              "      <td>7.900000</td>\n",
              "      <td>0.000000</td>\n",
              "      <td>2.200000</td>\n",
              "      <td>15.000000</td>\n",
              "      <td>0.400000</td>\n",
              "      <td>0.000000</td>\n",
              "      <td>0.000000</td>\n",
              "    </tr>\n",
              "    <tr>\n",
              "      <th>25%</th>\n",
              "      <td>3.000000</td>\n",
              "      <td>4.000000</td>\n",
              "      <td>90.200000</td>\n",
              "      <td>68.600000</td>\n",
              "      <td>437.700000</td>\n",
              "      <td>6.500000</td>\n",
              "      <td>15.500000</td>\n",
              "      <td>33.000000</td>\n",
              "      <td>2.700000</td>\n",
              "      <td>0.000000</td>\n",
              "      <td>0.000000</td>\n",
              "    </tr>\n",
              "    <tr>\n",
              "      <th>50%</th>\n",
              "      <td>4.000000</td>\n",
              "      <td>4.000000</td>\n",
              "      <td>91.600000</td>\n",
              "      <td>108.300000</td>\n",
              "      <td>664.200000</td>\n",
              "      <td>8.400000</td>\n",
              "      <td>19.300000</td>\n",
              "      <td>42.000000</td>\n",
              "      <td>4.000000</td>\n",
              "      <td>0.000000</td>\n",
              "      <td>0.520000</td>\n",
              "    </tr>\n",
              "    <tr>\n",
              "      <th>75%</th>\n",
              "      <td>7.000000</td>\n",
              "      <td>5.000000</td>\n",
              "      <td>92.900000</td>\n",
              "      <td>142.400000</td>\n",
              "      <td>713.900000</td>\n",
              "      <td>10.800000</td>\n",
              "      <td>22.800000</td>\n",
              "      <td>53.000000</td>\n",
              "      <td>4.900000</td>\n",
              "      <td>0.000000</td>\n",
              "      <td>6.570000</td>\n",
              "    </tr>\n",
              "    <tr>\n",
              "      <th>max</th>\n",
              "      <td>9.000000</td>\n",
              "      <td>9.000000</td>\n",
              "      <td>96.200000</td>\n",
              "      <td>291.300000</td>\n",
              "      <td>860.600000</td>\n",
              "      <td>56.100000</td>\n",
              "      <td>33.300000</td>\n",
              "      <td>100.000000</td>\n",
              "      <td>9.400000</td>\n",
              "      <td>6.400000</td>\n",
              "      <td>1090.840000</td>\n",
              "    </tr>\n",
              "  </tbody>\n",
              "</table>\n",
              "</div>"
            ],
            "text/plain": [
              "                X           Y        FFMC         DMC          DC         ISI  \\\n",
              "count  517.000000  517.000000  517.000000  517.000000  517.000000  517.000000   \n",
              "mean     4.669246    4.299807   90.644681  110.872340  547.940039    9.021663   \n",
              "std      2.313778    1.229900    5.520111   64.046482  248.066192    4.559477   \n",
              "min      1.000000    2.000000   18.700000    1.100000    7.900000    0.000000   \n",
              "25%      3.000000    4.000000   90.200000   68.600000  437.700000    6.500000   \n",
              "50%      4.000000    4.000000   91.600000  108.300000  664.200000    8.400000   \n",
              "75%      7.000000    5.000000   92.900000  142.400000  713.900000   10.800000   \n",
              "max      9.000000    9.000000   96.200000  291.300000  860.600000   56.100000   \n",
              "\n",
              "             temp          RH        wind        rain         area  \n",
              "count  517.000000  517.000000  517.000000  517.000000   517.000000  \n",
              "mean    18.889168   44.288201    4.017602    0.021663    12.847292  \n",
              "std      5.806625   16.317469    1.791653    0.295959    63.655818  \n",
              "min      2.200000   15.000000    0.400000    0.000000     0.000000  \n",
              "25%     15.500000   33.000000    2.700000    0.000000     0.000000  \n",
              "50%     19.300000   42.000000    4.000000    0.000000     0.520000  \n",
              "75%     22.800000   53.000000    4.900000    0.000000     6.570000  \n",
              "max     33.300000  100.000000    9.400000    6.400000  1090.840000  "
            ]
          },
          "metadata": {
            "tags": []
          },
          "execution_count": 13
        }
      ]
    },
    {
      "cell_type": "markdown",
      "metadata": {
        "id": "XNVBz8GTZG_b",
        "colab_type": "text"
      },
      "source": [
        "## 6. Visualization"
      ]
    },
    {
      "cell_type": "code",
      "metadata": {
        "id": "Y8QE3AN-YSVo",
        "colab_type": "code",
        "outputId": "c5d4f572-5797-4974-d07b-aea446966ca3",
        "colab": {
          "base_uri": "https://localhost:8080/",
          "height": 291
        }
      },
      "source": [
        "import seaborn as sns\n",
        "import matplotlib.pyplot as plt\n",
        "\n",
        "sns.set(color_codes=True)\n",
        "\n",
        "sns.kdeplot(data['temp'], shade=True)\n",
        "\n",
        "plt.axvline(data['temp'].mean(), 0, 1)\n",
        "plt.axvline(data['temp'].median(), 0, 1, color='r')\n",
        "plt.axvline(result['temp']['25%'], 0, 1, color='g')\n",
        "plt.axvline(result['temp']['75%'], 0, 1, color='g')\n",
        "\n",
        "IQR = result['temp']['75%'] - result['temp']['25%']\n",
        "\n",
        "upper_outliers = result['temp']['75%'] + 1.5*IQR\n",
        "lower_outliers = result['temp']['25%'] - 1.5*IQR\n",
        "\n",
        "plt.axvline(upper_outliers, 0, 1, color='b')\n",
        "plt.axvline(lower_outliers, 0, 1, color='b')\n",
        "\n"
      ],
      "execution_count": 0,
      "outputs": [
        {
          "output_type": "execute_result",
          "data": {
            "text/plain": [
              "<matplotlib.lines.Line2D at 0x7f49392a3ef0>"
            ]
          },
          "metadata": {
            "tags": []
          },
          "execution_count": 25
        },
        {
          "output_type": "display_data",
          "data": {
            "image/png": "[encoded data removed]",
            "text/plain": [
              "<Figure size 432x288 with 1 Axes>"
            ]
          },
          "metadata": {
            "tags": []
          }
        }
      ]
    },
    {
      "cell_type": "code",
      "metadata": {
        "id": "J3CeSMphcTq2",
        "colab_type": "code",
        "outputId": "16285576-e886-496c-93fa-a3f903bcde3f",
        "colab": {
          "base_uri": "https://localhost:8080/",
          "height": 170
        }
      },
      "source": [
        "result = data.describe()\n",
        "result['temp']"
      ],
      "execution_count": 0,
      "outputs": [
        {
          "output_type": "execute_result",
          "data": {
            "text/plain": [
              "count    517.000000\n",
              "mean      18.889168\n",
              "std        5.806625\n",
              "min        2.200000\n",
              "25%       15.500000\n",
              "50%       19.300000\n",
              "75%       22.800000\n",
              "max       33.300000\n",
              "Name: temp, dtype: float64"
            ]
          },
          "metadata": {
            "tags": []
          },
          "execution_count": 21
        }
      ]
    },
    {
      "cell_type": "code",
      "metadata": {
        "id": "caT8mUBbetzP",
        "colab_type": "code",
        "outputId": "59e2141f-9d60-44d4-efba-cecd29fb3105",
        "colab": {
          "base_uri": "https://localhost:8080/",
          "height": 34
        }
      },
      "source": [
        "result['temp']['50%']"
      ],
      "execution_count": 0,
      "outputs": [
        {
          "output_type": "execute_result",
          "data": {
            "text/plain": [
              "19.3"
            ]
          },
          "metadata": {
            "tags": []
          },
          "execution_count": 22
        }
      ]
    },
    {
      "cell_type": "code",
      "metadata": {
        "id": "uI-8Hs_zeveo",
        "colab_type": "code",
        "colab": {}
      },
      "source": [
        ""
      ],
      "execution_count": 0,
      "outputs": []
    }
  ]
}