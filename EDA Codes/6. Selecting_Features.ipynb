{
  "nbformat": 4,
  "nbformat_minor": 0,
  "metadata": {
    "colab": {
      "name": "Selecting Features.ipynb",
      "provenance": []
    },
    "kernelspec": {
      "name": "python3",
      "display_name": "Python 3"
    }
  },
  "cells": [
    {
      "cell_type": "code",
      "metadata": {
        "id": "Njjch5KTRhmw",
        "colab_type": "code",
        "colab": {}
      },
      "source": [
        "import matplotlib.pyplot as plt"
      ],
      "execution_count": 0,
      "outputs": []
    },
    {
      "cell_type": "markdown",
      "metadata": {
        "id": "eUdTyA0ZRqNI",
        "colab_type": "text"
      },
      "source": [
        "# 1. Load Dataset"
      ]
    },
    {
      "cell_type": "markdown",
      "metadata": {
        "id": "vDukJU-rRtS_",
        "colab_type": "text"
      },
      "source": [
        "![](https://mammothmemory.net/images/user/base/Biology/1.15.3%20Diagram%20of%20a%20sepal%20(2).jpg)"
      ]
    },
    {
      "cell_type": "code",
      "metadata": {
        "id": "96bT07zaRpLE",
        "colab_type": "code",
        "outputId": "0dac301d-1dd2-4b4a-e5ca-c42b563cd237",
        "colab": {
          "base_uri": "https://localhost:8080/",
          "height": 323
        }
      },
      "source": [
        "from sklearn.datasets import load_iris\n",
        "\n",
        "iris = load_iris()\n",
        "X, y = iris.data, iris.target\n",
        "\n",
        "# sepal length, sepal width, petal length, petal width\n",
        "print(f'Features \\n {X[:10]} \\n')\n",
        "print(f'Target \\n {y}')"
      ],
      "execution_count": 0,
      "outputs": [
        {
          "output_type": "stream",
          "text": [
            "Features \n",
            " [[5.1 3.5 1.4 0.2]\n",
            " [4.9 3.  1.4 0.2]\n",
            " [4.7 3.2 1.3 0.2]\n",
            " [4.6 3.1 1.5 0.2]\n",
            " [5.  3.6 1.4 0.2]\n",
            " [5.4 3.9 1.7 0.4]\n",
            " [4.6 3.4 1.4 0.3]\n",
            " [5.  3.4 1.5 0.2]\n",
            " [4.4 2.9 1.4 0.2]\n",
            " [4.9 3.1 1.5 0.1]] \n",
            "\n",
            "Target \n",
            " [0 0 0 0 0 0 0 0 0 0 0 0 0 0 0 0 0 0 0 0 0 0 0 0 0 0 0 0 0 0 0 0 0 0 0 0 0\n",
            " 0 0 0 0 0 0 0 0 0 0 0 0 0 1 1 1 1 1 1 1 1 1 1 1 1 1 1 1 1 1 1 1 1 1 1 1 1\n",
            " 1 1 1 1 1 1 1 1 1 1 1 1 1 1 1 1 1 1 1 1 1 1 1 1 1 1 2 2 2 2 2 2 2 2 2 2 2\n",
            " 2 2 2 2 2 2 2 2 2 2 2 2 2 2 2 2 2 2 2 2 2 2 2 2 2 2 2 2 2 2 2 2 2 2 2 2 2\n",
            " 2 2]\n"
          ],
          "name": "stdout"
        }
      ]
    },
    {
      "cell_type": "markdown",
      "metadata": {
        "id": "5tHqRucFSWGl",
        "colab_type": "text"
      },
      "source": [
        "# 2. Variance Threshold"
      ]
    },
    {
      "cell_type": "code",
      "metadata": {
        "id": "Z95LlD0XSTXu",
        "colab_type": "code",
        "outputId": "9a87dedc-fe9d-4da5-93bd-0b1d6e0a8c0c",
        "colab": {
          "base_uri": "https://localhost:8080/",
          "height": 187
        }
      },
      "source": [
        "from sklearn.feature_selection import VarianceThreshold\n",
        "\n",
        "sel = VarianceThreshold(threshold=0.3)\n",
        "\n",
        "sel.fit_transform(X)[:10]"
      ],
      "execution_count": 0,
      "outputs": [
        {
          "output_type": "execute_result",
          "data": {
            "text/plain": [
              "array([[5.1, 1.4, 0.2],\n",
              "       [4.9, 1.4, 0.2],\n",
              "       [4.7, 1.3, 0.2],\n",
              "       [4.6, 1.5, 0.2],\n",
              "       [5. , 1.4, 0.2],\n",
              "       [5.4, 1.7, 0.4],\n",
              "       [4.6, 1.4, 0.3],\n",
              "       [5. , 1.5, 0.2],\n",
              "       [4.4, 1.4, 0.2],\n",
              "       [4.9, 1.5, 0.1]])"
            ]
          },
          "metadata": {
            "tags": []
          },
          "execution_count": 3
        }
      ]
    },
    {
      "cell_type": "markdown",
      "metadata": {
        "id": "383ZV-b0SxCC",
        "colab_type": "text"
      },
      "source": [
        "# 3. Correlated Features"
      ]
    },
    {
      "cell_type": "code",
      "metadata": {
        "id": "pUjXe_qzSrE6",
        "colab_type": "code",
        "outputId": "2e398628-d844-4d2d-97a2-108686048347",
        "colab": {
          "base_uri": "https://localhost:8080/",
          "height": 286
        }
      },
      "source": [
        "import numpy as np\n",
        "from scipy.stats import pearsonr\n",
        "\n",
        "np.random.seed(42)\n",
        "x1 = np.random.normal(0, 1, 500)\n",
        "x2 = x1 + np.random.normal(0, 1, 500)\n",
        "x3 = x1 + np.random.normal(0, 10, 500)\n",
        "\n",
        "plt.scatter(x1, x2)\n",
        "plt.scatter(x1, x3)"
      ],
      "execution_count": 0,
      "outputs": [
        {
          "output_type": "execute_result",
          "data": {
            "text/plain": [
              "<matplotlib.collections.PathCollection at 0x7fa5ec7805f8>"
            ]
          },
          "metadata": {
            "tags": []
          },
          "execution_count": 4
        },
        {
          "output_type": "display_data",
          "data": {
            "image/png": "[encoded data removed]",
            "text/plain": [
              "<Figure size 432x288 with 1 Axes>"
            ]
          },
          "metadata": {
            "tags": []
          }
        }
      ]
    },
    {
      "cell_type": "code",
      "metadata": {
        "id": "CeffN-V0TG5D",
        "colab_type": "code",
        "outputId": "8d32e777-b815-416b-851e-1ba62b74e907",
        "colab": {
          "base_uri": "https://localhost:8080/",
          "height": 51
        }
      },
      "source": [
        "print(pearsonr(x1, x2))\n",
        "print(pearsonr(x1, x3))"
      ],
      "execution_count": 0,
      "outputs": [
        {
          "output_type": "stream",
          "text": [
            "(0.6811405918134971, 1.9520324398684079e-69)\n",
            "(0.03937486620402585, 0.37962586391466446)\n"
          ],
          "name": "stdout"
        }
      ]
    },
    {
      "cell_type": "code",
      "metadata": {
        "id": "04Q1Co8kTNme",
        "colab_type": "code",
        "outputId": "9f5adade-cd01-4cb8-d021-5622985db05d",
        "colab": {
          "base_uri": "https://localhost:8080/",
          "height": 68
        }
      },
      "source": [
        "print(pearsonr(X[:, 0], X[:, 1]))\n",
        "print(pearsonr(X[:, 0], X[:, 2]))\n",
        "print(pearsonr(X[:, 0], X[:, 3]))"
      ],
      "execution_count": 0,
      "outputs": [
        {
          "output_type": "stream",
          "text": [
            "(-0.11756978413300206, 0.15189826071144766)\n",
            "(0.8717537758865831, 1.0386674194498099e-47)\n",
            "(0.8179411262715756, 2.325498079793272e-37)\n"
          ],
          "name": "stdout"
        }
      ]
    },
    {
      "cell_type": "markdown",
      "metadata": {
        "id": "soqrSy3MTnOJ",
        "colab_type": "text"
      },
      "source": [
        "# 4. Mutual Information"
      ]
    },
    {
      "cell_type": "code",
      "metadata": {
        "id": "jyzAtOHlTgO7",
        "colab_type": "code",
        "outputId": "b7d34fd8-ead3-4198-ca80-44c92437641f",
        "colab": {
          "base_uri": "https://localhost:8080/",
          "height": 34
        }
      },
      "source": [
        "from sklearn.feature_selection import mutual_info_classif\n",
        "\n",
        "print(mutual_info_classif(X, y))"
      ],
      "execution_count": 0,
      "outputs": [
        {
          "output_type": "stream",
          "text": [
            "[0.48451775 0.20941727 0.99280814 0.98327118]\n"
          ],
          "name": "stdout"
        }
      ]
    },
    {
      "cell_type": "markdown",
      "metadata": {
        "id": "jzzG_StPT3jA",
        "colab_type": "text"
      },
      "source": [
        "# 5. Chi Squared"
      ]
    },
    {
      "cell_type": "code",
      "metadata": {
        "id": "Pw8KEYVUTzk7",
        "colab_type": "code",
        "outputId": "b5a24500-b5db-4b5c-812a-3151726ba1e9",
        "colab": {
          "base_uri": "https://localhost:8080/",
          "height": 187
        }
      },
      "source": [
        "from sklearn.feature_selection import SelectKBest\n",
        "from sklearn.feature_selection import chi2\n",
        "\n",
        "X[:10]"
      ],
      "execution_count": 0,
      "outputs": [
        {
          "output_type": "execute_result",
          "data": {
            "text/plain": [
              "array([[5.1, 3.5, 1.4, 0.2],\n",
              "       [4.9, 3. , 1.4, 0.2],\n",
              "       [4.7, 3.2, 1.3, 0.2],\n",
              "       [4.6, 3.1, 1.5, 0.2],\n",
              "       [5. , 3.6, 1.4, 0.2],\n",
              "       [5.4, 3.9, 1.7, 0.4],\n",
              "       [4.6, 3.4, 1.4, 0.3],\n",
              "       [5. , 3.4, 1.5, 0.2],\n",
              "       [4.4, 2.9, 1.4, 0.2],\n",
              "       [4.9, 3.1, 1.5, 0.1]])"
            ]
          },
          "metadata": {
            "tags": []
          },
          "execution_count": 8
        }
      ]
    },
    {
      "cell_type": "code",
      "metadata": {
        "id": "9fkmwhO9UHeF",
        "colab_type": "code",
        "outputId": "f794721c-f177-40fc-b041-f04096e74687",
        "colab": {
          "base_uri": "https://localhost:8080/",
          "height": 187
        }
      },
      "source": [
        "X_new = SelectKBest(chi2, k=3).fit_transform(X, y)\n",
        "X_new[:10]"
      ],
      "execution_count": 0,
      "outputs": [
        {
          "output_type": "execute_result",
          "data": {
            "text/plain": [
              "array([[5.1, 1.4, 0.2],\n",
              "       [4.9, 1.4, 0.2],\n",
              "       [4.7, 1.3, 0.2],\n",
              "       [4.6, 1.5, 0.2],\n",
              "       [5. , 1.4, 0.2],\n",
              "       [5.4, 1.7, 0.4],\n",
              "       [4.6, 1.4, 0.3],\n",
              "       [5. , 1.5, 0.2],\n",
              "       [4.4, 1.4, 0.2],\n",
              "       [4.9, 1.5, 0.1]])"
            ]
          },
          "metadata": {
            "tags": []
          },
          "execution_count": 9
        }
      ]
    },
    {
      "cell_type": "code",
      "metadata": {
        "id": "x8Y9NzAbUWnV",
        "colab_type": "code",
        "colab": {}
      },
      "source": [
        ""
      ],
      "execution_count": 0,
      "outputs": []
    }
  ]
}