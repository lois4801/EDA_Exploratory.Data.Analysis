{
  "nbformat": 4,
  "nbformat_minor": 0,
  "metadata": {
    "colab": {
      "name": "Univariate Composition Plots.ipynb",
      "provenance": []
    },
    "kernelspec": {
      "name": "python3",
      "display_name": "Python 3"
    }
  },
  "cells": [
    {
      "cell_type": "code",
      "metadata": {
        "id": "N6cxRjt5QrHo",
        "colab_type": "code",
        "colab": {}
      },
      "source": [
        "import seaborn as sns\n",
        "import matplotlib.pyplot as plt\n",
        "import numpy as np"
      ],
      "execution_count": 0,
      "outputs": []
    },
    {
      "cell_type": "code",
      "metadata": {
        "id": "P-jOY5WRfdoE",
        "colab_type": "code",
        "outputId": "5a63a1a2-3b65-477b-d797-9ad5fe21de1d",
        "colab": {
          "base_uri": "https://localhost:8080/",
          "height": 255
        }
      },
      "source": [
        "data = [15, 30]\n",
        "\n",
        "plt.subplots()\n",
        "wedges, texts = plt.pie(data, \n",
        "                        startangle=90,\n",
        "                        colors=['#2A9FBC', '#F15B2A'],\n",
        "                        wedgeprops={'linewidth':3, 'alpha':0.5})\n",
        "\n",
        "colors=['#2A9FBC', '#F15B2A']\n",
        "\n",
        "for i, w in enumerate(wedges):\n",
        "  w.set_edgecolor(colors[i])"
      ],
      "execution_count": 0,
      "outputs": [
        {
          "output_type": "display_data",
          "data": {
            "image/png": "[encoded data removed]",
            "text/plain": [
              "<Figure size 432x288 with 1 Axes>"
            ]
          },
          "metadata": {
            "tags": []
          }
        }
      ]
    },
    {
      "cell_type": "code",
      "metadata": {
        "id": "H9qt2NDIhmw9",
        "colab_type": "code",
        "outputId": "da4594ad-750a-4fb6-dbc3-71ead92e7940",
        "colab": {
          "base_uri": "https://localhost:8080/",
          "height": 289
        }
      },
      "source": [
        "!pip install pywaffle"
      ],
      "execution_count": 0,
      "outputs": [
        {
          "output_type": "stream",
          "text": [
            "Collecting pywaffle\n",
            "  Downloading https://files.pythonhosted.org/packages/d8/49/5e95fd9b1f7041dbf9cdf274d01708d34283df5e28fb0f31d879e5782dcb/pywaffle-0.2.1.tar.gz\n",
            "Requirement already satisfied: matplotlib in /usr/local/lib/python3.6/dist-packages (from pywaffle) (3.0.3)\n",
            "Requirement already satisfied: cycler>=0.10 in /usr/local/lib/python3.6/dist-packages (from matplotlib->pywaffle) (0.10.0)\n",
            "Requirement already satisfied: numpy>=1.10.0 in /usr/local/lib/python3.6/dist-packages (from matplotlib->pywaffle) (1.16.3)\n",
            "Requirement already satisfied: pyparsing!=2.0.4,!=2.1.2,!=2.1.6,>=2.0.1 in /usr/local/lib/python3.6/dist-packages (from matplotlib->pywaffle) (2.4.0)\n",
            "Requirement already satisfied: kiwisolver>=1.0.1 in /usr/local/lib/python3.6/dist-packages (from matplotlib->pywaffle) (1.1.0)\n",
            "Requirement already satisfied: python-dateutil>=2.1 in /usr/local/lib/python3.6/dist-packages (from matplotlib->pywaffle) (2.5.3)\n",
            "Requirement already satisfied: six in /usr/local/lib/python3.6/dist-packages (from cycler>=0.10->matplotlib->pywaffle) (1.12.0)\n",
            "Requirement already satisfied: setuptools in /usr/local/lib/python3.6/dist-packages (from kiwisolver>=1.0.1->matplotlib->pywaffle) (41.0.1)\n",
            "Building wheels for collected packages: pywaffle\n",
            "  Building wheel for pywaffle (setup.py) ... \u001b[?25l\u001b[?25hdone\n",
            "  Stored in directory: /root/.cache/pip/wheels/40/41/69/3c2261c863efd83871399be78d57179ff72b4f048cca96de4d\n",
            "Successfully built pywaffle\n",
            "Installing collected packages: pywaffle\n",
            "Successfully installed pywaffle-0.2.1\n"
          ],
          "name": "stdout"
        }
      ]
    },
    {
      "cell_type": "code",
      "metadata": {
        "id": "bT2V66XMihVr",
        "colab_type": "code",
        "outputId": "6d58d47b-992a-4be7-fc18-54d3c571d650",
        "colab": {
          "base_uri": "https://localhost:8080/",
          "height": 308
        }
      },
      "source": [
        "from pywaffle import Waffle\n",
        "\n",
        "data = {'Celtics':17, 'Lakers':16, 'Bulls':6, 'Warriors':6, 'Spurs':5}\n",
        "\n",
        "fig = plt.figure(\n",
        "                 FigureClass=Waffle,\n",
        "                 rows=6,\n",
        "                 values=data,\n",
        "                 colors=('#F15B2A','#2A9FBC','#404040','#A62E5C','#9BC850'),\n",
        "                 title={'label': 'NBA Titles', 'loc': 'left'},\n",
        "                 labels=[\"{0} ({1})\".format(k, v) for k, v in data.items()],\n",
        "                 legend={'loc': 'lower left', 'bbox_to_anchor': (0, -0.4), 'ncol': len(data), 'framealpha': 0})"
      ],
      "execution_count": 0,
      "outputs": [
        {
          "output_type": "stream",
          "text": [
            "/usr/local/lib/python3.6/dist-packages/matplotlib/figure.py:2369: UserWarning: This figure includes Axes that are not compatible with tight_layout, so results might be incorrect.\n",
            "  warnings.warn(\"This figure includes Axes that are not compatible \"\n"
          ],
          "name": "stderr"
        },
        {
          "output_type": "display_data",
          "data": {
            "image/png": "[encoded data removed]",
            "text/plain": [
              "<Waffle size 432x288 with 1 Axes>"
            ]
          },
          "metadata": {
            "tags": []
          }
        }
      ]
    },
    {
      "cell_type": "code",
      "metadata": {
        "id": "T3yJX8NGjBhV",
        "colab_type": "code",
        "outputId": "e04c93ba-d9ad-4173-b3cb-74439ea0b9db",
        "colab": {
          "base_uri": "https://localhost:8080/",
          "height": 34
        }
      },
      "source": [
        "data.items()"
      ],
      "execution_count": 0,
      "outputs": [
        {
          "output_type": "execute_result",
          "data": {
            "text/plain": [
              "dict_items([('Celtics', 17), ('Lakers', 16), ('Bulls', 6), ('Warriors', 6), ('Spurs', 5)])"
            ]
          },
          "metadata": {
            "tags": []
          },
          "execution_count": 14
        }
      ]
    },
    {
      "cell_type": "code",
      "metadata": {
        "id": "RzwcDIa4jzLT",
        "colab_type": "code",
        "outputId": "e34a5fe6-99e8-4a49-8158-b30ad4013968",
        "colab": {
          "base_uri": "https://localhost:8080/",
          "height": 85
        }
      },
      "source": [
        "!pip install squarify"
      ],
      "execution_count": 0,
      "outputs": [
        {
          "output_type": "stream",
          "text": [
            "Collecting squarify\n",
            "  Downloading https://files.pythonhosted.org/packages/4e/f2/1f47d7f8c34e3c5f45de8b7fad06947558964e05ce6cccc94cf2066bd22b/squarify-0.4.2-py3-none-any.whl\n",
            "Installing collected packages: squarify\n",
            "Successfully installed squarify-0.4.2\n"
          ],
          "name": "stdout"
        }
      ]
    },
    {
      "cell_type": "code",
      "metadata": {
        "id": "qRsyD7VmkI_6",
        "colab_type": "code",
        "outputId": "b25490ae-c8c0-4205-f48e-0fdaf491ca97",
        "colab": {
          "base_uri": "https://localhost:8080/",
          "height": 286
        }
      },
      "source": [
        "import squarify\n",
        "\n",
        "data = [10, 12, 23, 54, 36]\n",
        "labels = ['A', 'B', 'C', 'D', 'E']\n",
        "\n",
        "squarify.plot(sizes=data, \n",
        "              label=labels,\n",
        "              color=['green', 'grey', 'blue', 'red', 'purple'],\n",
        "              alpha=0.5)\n",
        "\n",
        "plt.axis('off')"
      ],
      "execution_count": 0,
      "outputs": [
        {
          "output_type": "execute_result",
          "data": {
            "text/plain": [
              "(0.0, 100.0, 0.0, 100.0)"
            ]
          },
          "metadata": {
            "tags": []
          },
          "execution_count": 20
        },
        {
          "output_type": "display_data",
          "data": {
            "image/png": "[encoded data removed]",
            "text/plain": [
              "<Figure size 432x288 with 1 Axes>"
            ]
          },
          "metadata": {
            "tags": []
          }
        }
      ]
    },
    {
      "cell_type": "code",
      "metadata": {
        "id": "Yuv2fNKMkhN8",
        "colab_type": "code",
        "outputId": "666882e0-9df0-4276-a0a3-2a07a2250522",
        "colab": {
          "base_uri": "https://localhost:8080/",
          "height": 204
        }
      },
      "source": [
        "import pandas as pd\n",
        "\n",
        "category = ['lottery', 'buy_house', 'credit', 'party', 'sell_car', 'taxes']\n",
        "data = {'amount': [150000,-35000,-17500,-5000,103000,-17000]}\n",
        "\n",
        "df = pd.DataFrame(data=data, index=category)\n",
        "\n",
        "df.head()"
      ],
      "execution_count": 0,
      "outputs": [
        {
          "output_type": "execute_result",
          "data": {
            "text/html": [
              "<div>\n",
              "<style scoped>\n",
              "    .dataframe tbody tr th:only-of-type {\n",
              "        vertical-align: middle;\n",
              "    }\n",
              "\n",
              "    .dataframe tbody tr th {\n",
              "        vertical-align: top;\n",
              "    }\n",
              "\n",
              "    .dataframe thead th {\n",
              "        text-align: right;\n",
              "    }\n",
              "</style>\n",
              "<table border=\"1\" class=\"dataframe\">\n",
              "  <thead>\n",
              "    <tr style=\"text-align: right;\">\n",
              "      <th></th>\n",
              "      <th>amount</th>\n",
              "    </tr>\n",
              "  </thead>\n",
              "  <tbody>\n",
              "    <tr>\n",
              "      <th>lottery</th>\n",
              "      <td>150000</td>\n",
              "    </tr>\n",
              "    <tr>\n",
              "      <th>buy_house</th>\n",
              "      <td>-35000</td>\n",
              "    </tr>\n",
              "    <tr>\n",
              "      <th>credit</th>\n",
              "      <td>-17500</td>\n",
              "    </tr>\n",
              "    <tr>\n",
              "      <th>party</th>\n",
              "      <td>-5000</td>\n",
              "    </tr>\n",
              "    <tr>\n",
              "      <th>sell_car</th>\n",
              "      <td>103000</td>\n",
              "    </tr>\n",
              "  </tbody>\n",
              "</table>\n",
              "</div>"
            ],
            "text/plain": [
              "           amount\n",
              "lottery    150000\n",
              "buy_house  -35000\n",
              "credit     -17500\n",
              "party       -5000\n",
              "sell_car   103000"
            ]
          },
          "metadata": {
            "tags": []
          },
          "execution_count": 81
        }
      ]
    },
    {
      "cell_type": "code",
      "metadata": {
        "id": "gBnuuOdSoswu",
        "colab_type": "code",
        "outputId": "9347b9bf-704f-49c4-a7aa-cc141e4091be",
        "colab": {
          "base_uri": "https://localhost:8080/",
          "height": 204
        }
      },
      "source": [
        "cumsum = df.amount.cumsum().shift(1).fillna(0)\n",
        "#df.drop(columns='cumsum', inplace=True)\n",
        "\n",
        "df.head()"
      ],
      "execution_count": 0,
      "outputs": [
        {
          "output_type": "execute_result",
          "data": {
            "text/html": [
              "<div>\n",
              "<style scoped>\n",
              "    .dataframe tbody tr th:only-of-type {\n",
              "        vertical-align: middle;\n",
              "    }\n",
              "\n",
              "    .dataframe tbody tr th {\n",
              "        vertical-align: top;\n",
              "    }\n",
              "\n",
              "    .dataframe thead th {\n",
              "        text-align: right;\n",
              "    }\n",
              "</style>\n",
              "<table border=\"1\" class=\"dataframe\">\n",
              "  <thead>\n",
              "    <tr style=\"text-align: right;\">\n",
              "      <th></th>\n",
              "      <th>amount</th>\n",
              "    </tr>\n",
              "  </thead>\n",
              "  <tbody>\n",
              "    <tr>\n",
              "      <th>lottery</th>\n",
              "      <td>150000</td>\n",
              "    </tr>\n",
              "    <tr>\n",
              "      <th>buy_house</th>\n",
              "      <td>-35000</td>\n",
              "    </tr>\n",
              "    <tr>\n",
              "      <th>credit</th>\n",
              "      <td>-17500</td>\n",
              "    </tr>\n",
              "    <tr>\n",
              "      <th>party</th>\n",
              "      <td>-5000</td>\n",
              "    </tr>\n",
              "    <tr>\n",
              "      <th>sell_car</th>\n",
              "      <td>103000</td>\n",
              "    </tr>\n",
              "  </tbody>\n",
              "</table>\n",
              "</div>"
            ],
            "text/plain": [
              "           amount\n",
              "lottery    150000\n",
              "buy_house  -35000\n",
              "credit     -17500\n",
              "party       -5000\n",
              "sell_car   103000"
            ]
          },
          "metadata": {
            "tags": []
          },
          "execution_count": 82
        }
      ]
    },
    {
      "cell_type": "code",
      "metadata": {
        "id": "r_riHCp8r0yR",
        "colab_type": "code",
        "outputId": "9d68eb34-aa2e-4c75-977e-32ad1863534c",
        "colab": {
          "base_uri": "https://localhost:8080/",
          "height": 312
        }
      },
      "source": [
        "fig = df.plot(kind='bar',\n",
        "              stacked=True,\n",
        "              bottom=cumsum)"
      ],
      "execution_count": 0,
      "outputs": [
        {
          "output_type": "display_data",
          "data": {
            "image/png": "[encoded data removed]",
            "text/plain": [
              "<Figure size 432x288 with 1 Axes>"
            ]
          },
          "metadata": {
            "tags": []
          }
        }
      ]
    },
    {
      "cell_type": "code",
      "metadata": {
        "id": "-A-0eeqcuGPX",
        "colab_type": "code",
        "outputId": "66ec3d6b-9298-49fc-cbdc-4e040b6e9a26",
        "colab": {
          "base_uri": "https://localhost:8080/",
          "height": 340
        }
      },
      "source": [
        "h_lines = cumsum.reset_index(drop=True).repeat(3).shift(-1)\n",
        "h_lines"
      ],
      "execution_count": 0,
      "outputs": [
        {
          "output_type": "execute_result",
          "data": {
            "text/plain": [
              "0         0.0\n",
              "0         0.0\n",
              "0    150000.0\n",
              "1    150000.0\n",
              "1    150000.0\n",
              "1    115000.0\n",
              "2    115000.0\n",
              "2    115000.0\n",
              "2     97500.0\n",
              "3     97500.0\n",
              "3     97500.0\n",
              "3     92500.0\n",
              "4     92500.0\n",
              "4     92500.0\n",
              "4    195500.0\n",
              "5    195500.0\n",
              "5    195500.0\n",
              "5         NaN\n",
              "Name: amount, dtype: float64"
            ]
          },
          "metadata": {
            "tags": []
          },
          "execution_count": 84
        }
      ]
    },
    {
      "cell_type": "code",
      "metadata": {
        "id": "waCmKF-gvllg",
        "colab_type": "code",
        "outputId": "5e597a89-9133-4a28-96da-639a5b25ec74",
        "colab": {
          "base_uri": "https://localhost:8080/",
          "height": 340
        }
      },
      "source": [
        "h_lines[1::3] = np.nan\n",
        "h_lines"
      ],
      "execution_count": 0,
      "outputs": [
        {
          "output_type": "execute_result",
          "data": {
            "text/plain": [
              "0         0.0\n",
              "0         NaN\n",
              "0    150000.0\n",
              "1    150000.0\n",
              "1         NaN\n",
              "1    115000.0\n",
              "2    115000.0\n",
              "2         NaN\n",
              "2     97500.0\n",
              "3     97500.0\n",
              "3         NaN\n",
              "3     92500.0\n",
              "4     92500.0\n",
              "4         NaN\n",
              "4    195500.0\n",
              "5    195500.0\n",
              "5         NaN\n",
              "5         NaN\n",
              "Name: amount, dtype: float64"
            ]
          },
          "metadata": {
            "tags": []
          },
          "execution_count": 85
        }
      ]
    },
    {
      "cell_type": "code",
      "metadata": {
        "id": "V2ISdpxjvp9h",
        "colab_type": "code",
        "outputId": "d2a44bea-59fe-4793-e4ba-582c3b23db46",
        "colab": {
          "base_uri": "https://localhost:8080/",
          "height": 329
        }
      },
      "source": [
        "df.loc['total'] = df.sum().amount\n",
        "cumsum.loc['total'] = 0\n",
        "\n",
        "fig = df.plot(kind='bar',\n",
        "              stacked=True,\n",
        "              bottom=cumsum,\n",
        "              color='#F15B2A')\n",
        "\n",
        "cumsum.loc['total'] = df[:-1].sum().amount\n",
        "h_lines = cumsum.reset_index(drop=True).repeat(3).shift(-1)\n",
        "h_lines[1::3] = np.nan\n",
        "\n",
        "fig.plot(h_lines.index, h_lines.values, 'black')"
      ],
      "execution_count": 0,
      "outputs": [
        {
          "output_type": "execute_result",
          "data": {
            "text/plain": [
              "[<matplotlib.lines.Line2D at 0x7f11b2a336a0>]"
            ]
          },
          "metadata": {
            "tags": []
          },
          "execution_count": 86
        },
        {
          "output_type": "display_data",
          "data": {
            "image/png": "[encoded data removed]",
            "text/plain": [
              "<Figure size 432x288 with 1 Axes>"
            ]
          },
          "metadata": {
            "tags": []
          }
        }
      ]
    },
    {
      "cell_type": "code",
      "metadata": {
        "id": "eFDxPULhy2v4",
        "colab_type": "code",
        "colab": {}
      },
      "source": [
        ""
      ],
      "execution_count": 0,
      "outputs": []
    }
  ]
}